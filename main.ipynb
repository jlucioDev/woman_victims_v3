{
 "cells": [
  {
   "cell_type": "markdown",
   "metadata": {},
   "source": [
    "# Projeto Mulheres Vítimas Versão 3\n",
    "## Classificação de municípios quanto ao risco de violência contra mulher\n",
    "\n",
    "\n",
    "**João L. S. Júnior**\\\n",
    "Universidade Federal do Pará - UFPA \\\n",
    "Laboratório de Pesquisa Operacional - LPO\\\n",
    "Instituto Federal de Educação, Ciência e Tecnologia do Pará - IFPA\\\n",
    "Copyright(c) 2023.\n",
    "\n",
    "\n",
    "---"
   ]
  },
  {
   "cell_type": "markdown",
   "metadata": {},
   "source": [
    "Comunicação com API IBGE"
   ]
  },
  {
   "cell_type": "code",
   "execution_count": null,
   "metadata": {},
   "outputs": [],
   "source": [
    "from generators.IBGEDataFetcher import IBGEDataFetcher\n",
    "\n",
    "\n",
    "# Exemplo de uso:\n",
    "state = 'pa'  # Exemplo: Pará\n",
    "fetcher = IBGEDataFetcher(state)\n",
    "df_munic = fetcher.fetch_municipios_info()\n",
    "df_munic"
   ]
  },
  {
   "cell_type": "code",
   "execution_count": null,
   "metadata": {},
   "outputs": [],
   "source": []
  }
 ],
 "metadata": {
  "kernelspec": {
   "display_name": "Python 3",
   "language": "python",
   "name": "python3"
  },
  "language_info": {
   "codemirror_mode": {
    "name": "ipython",
    "version": 3
   },
   "file_extension": ".py",
   "mimetype": "text/x-python",
   "name": "python",
   "nbconvert_exporter": "python",
   "pygments_lexer": "ipython3",
   "version": "3.11.4"
  },
  "orig_nbformat": 4
 },
 "nbformat": 4,
 "nbformat_minor": 2
}
